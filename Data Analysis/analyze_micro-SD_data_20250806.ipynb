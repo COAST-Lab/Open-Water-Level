{
 "cells": [
  {
   "cell_type": "code",
   "execution_count": 1,
   "id": "2df58800-cc8a-43b0-a3f8-891f9c4128e1",
   "metadata": {},
   "outputs": [],
   "source": [
    "import pandas as pd\n",
    "import numpy as np\n",
    "\n",
    "import matplotlib.pyplot as plt\n",
    "import matplotlib.ticker as ticker\n",
    "from matplotlib.dates import DateFormatter\n",
    "\n",
    "import seaborn as sns\n",
    "\n",
    "import datetime\n",
    "import os"
   ]
  },
  {
   "cell_type": "code",
   "execution_count": 3,
   "id": "bcfdc5bc-7679-4655-875c-d892e9d979dc",
   "metadata": {},
   "outputs": [
    {
     "data": {
      "text/html": [
       "<div>\n",
       "<style scoped>\n",
       "    .dataframe tbody tr th:only-of-type {\n",
       "        vertical-align: middle;\n",
       "    }\n",
       "\n",
       "    .dataframe tbody tr th {\n",
       "        vertical-align: top;\n",
       "    }\n",
       "\n",
       "    .dataframe thead th {\n",
       "        text-align: right;\n",
       "    }\n",
       "</style>\n",
       "<table border=\"1\" class=\"dataframe\">\n",
       "  <thead>\n",
       "    <tr style=\"text-align: right;\">\n",
       "      <th></th>\n",
       "      <th>Unix_Time</th>\n",
       "      <th>Distance (cm)</th>\n",
       "      <th>Battery (V)</th>\n",
       "      <th>Charge (%)</th>\n",
       "    </tr>\n",
       "  </thead>\n",
       "  <tbody>\n",
       "    <tr>\n",
       "      <th>0</th>\n",
       "      <td>1712345274</td>\n",
       "      <td>35.22778</td>\n",
       "      <td>4.08</td>\n",
       "      <td>90.86</td>\n",
       "    </tr>\n",
       "    <tr>\n",
       "      <th>1</th>\n",
       "      <td>1712347228</td>\n",
       "      <td>203.52499</td>\n",
       "      <td>4.08</td>\n",
       "      <td>90.70</td>\n",
       "    </tr>\n",
       "    <tr>\n",
       "      <th>2</th>\n",
       "      <td>1712350819</td>\n",
       "      <td>159.83333</td>\n",
       "      <td>4.08</td>\n",
       "      <td>90.70</td>\n",
       "    </tr>\n",
       "    <tr>\n",
       "      <th>3</th>\n",
       "      <td>1712354419</td>\n",
       "      <td>135.64722</td>\n",
       "      <td>4.08</td>\n",
       "      <td>90.70</td>\n",
       "    </tr>\n",
       "    <tr>\n",
       "      <th>4</th>\n",
       "      <td>1712358019</td>\n",
       "      <td>121.57500</td>\n",
       "      <td>4.08</td>\n",
       "      <td>90.54</td>\n",
       "    </tr>\n",
       "  </tbody>\n",
       "</table>\n",
       "</div>"
      ],
      "text/plain": [
       "    Unix_Time  Distance (cm)  Battery (V)  Charge (%)\n",
       "0  1712345274       35.22778         4.08       90.86\n",
       "1  1712347228      203.52499         4.08       90.70\n",
       "2  1712350819      159.83333         4.08       90.70\n",
       "3  1712354419      135.64722         4.08       90.70\n",
       "4  1712358019      121.57500         4.08       90.54"
      ]
     },
     "execution_count": 3,
     "metadata": {},
     "output_type": "execute_result"
    }
   ],
   "source": [
    "filepath = os.path.join('Data', 'distance_wl_0003_20250806_truncate.csv')\n",
    "df_full = pd.read_csv(filepath, header = None, on_bad_lines='skip')\n",
    "df_full.columns = ['Unix_Time', 'Distance (cm)', 'Battery (V)', 'Charge (%)']\n",
    "df_full.head()"
   ]
  },
  {
   "cell_type": "code",
   "execution_count": 4,
   "id": "2d261c8e-4ae2-444c-8ce7-45e8a29fbe6f",
   "metadata": {},
   "outputs": [],
   "source": [
    "df_full['datetime (ET)'] = pd.to_datetime(df_full['Unix_Time'], unit='s').dt.tz_localize('UTC').dt.tz_convert('America/New_York')"
   ]
  },
  {
   "cell_type": "code",
   "execution_count": 5,
   "id": "42a3ef30-1421-479b-95ba-19f1b143fd17",
   "metadata": {},
   "outputs": [
    {
     "data": {
      "text/html": [
       "<div>\n",
       "<style scoped>\n",
       "    .dataframe tbody tr th:only-of-type {\n",
       "        vertical-align: middle;\n",
       "    }\n",
       "\n",
       "    .dataframe tbody tr th {\n",
       "        vertical-align: top;\n",
       "    }\n",
       "\n",
       "    .dataframe thead th {\n",
       "        text-align: right;\n",
       "    }\n",
       "</style>\n",
       "<table border=\"1\" class=\"dataframe\">\n",
       "  <thead>\n",
       "    <tr style=\"text-align: right;\">\n",
       "      <th></th>\n",
       "      <th>Unix_Time</th>\n",
       "      <th>Distance (cm)</th>\n",
       "      <th>Battery (V)</th>\n",
       "      <th>Charge (%)</th>\n",
       "      <th>datetime (ET)</th>\n",
       "    </tr>\n",
       "  </thead>\n",
       "  <tbody>\n",
       "    <tr>\n",
       "      <th>0</th>\n",
       "      <td>1712345274</td>\n",
       "      <td>35.22778</td>\n",
       "      <td>4.08</td>\n",
       "      <td>90.86</td>\n",
       "      <td>2024-04-05 15:27:54-04:00</td>\n",
       "    </tr>\n",
       "    <tr>\n",
       "      <th>1</th>\n",
       "      <td>1712347228</td>\n",
       "      <td>203.52499</td>\n",
       "      <td>4.08</td>\n",
       "      <td>90.70</td>\n",
       "      <td>2024-04-05 16:00:28-04:00</td>\n",
       "    </tr>\n",
       "    <tr>\n",
       "      <th>2</th>\n",
       "      <td>1712350819</td>\n",
       "      <td>159.83333</td>\n",
       "      <td>4.08</td>\n",
       "      <td>90.70</td>\n",
       "      <td>2024-04-05 17:00:19-04:00</td>\n",
       "    </tr>\n",
       "    <tr>\n",
       "      <th>3</th>\n",
       "      <td>1712354419</td>\n",
       "      <td>135.64722</td>\n",
       "      <td>4.08</td>\n",
       "      <td>90.70</td>\n",
       "      <td>2024-04-05 18:00:19-04:00</td>\n",
       "    </tr>\n",
       "    <tr>\n",
       "      <th>4</th>\n",
       "      <td>1712358019</td>\n",
       "      <td>121.57500</td>\n",
       "      <td>4.08</td>\n",
       "      <td>90.54</td>\n",
       "      <td>2024-04-05 19:00:19-04:00</td>\n",
       "    </tr>\n",
       "  </tbody>\n",
       "</table>\n",
       "</div>"
      ],
      "text/plain": [
       "    Unix_Time  Distance (cm)  Battery (V)  Charge (%)  \\\n",
       "0  1712345274       35.22778         4.08       90.86   \n",
       "1  1712347228      203.52499         4.08       90.70   \n",
       "2  1712350819      159.83333         4.08       90.70   \n",
       "3  1712354419      135.64722         4.08       90.70   \n",
       "4  1712358019      121.57500         4.08       90.54   \n",
       "\n",
       "              datetime (ET)  \n",
       "0 2024-04-05 15:27:54-04:00  \n",
       "1 2024-04-05 16:00:28-04:00  \n",
       "2 2024-04-05 17:00:19-04:00  \n",
       "3 2024-04-05 18:00:19-04:00  \n",
       "4 2024-04-05 19:00:19-04:00  "
      ]
     },
     "execution_count": 5,
     "metadata": {},
     "output_type": "execute_result"
    }
   ],
   "source": [
    "df_full.head()"
   ]
  },
  {
   "cell_type": "code",
   "execution_count": 6,
   "id": "5ee0d26c-470b-4a7c-8065-1dc54b8f49d5",
   "metadata": {},
   "outputs": [
    {
     "data": {
      "text/html": [
       "<div>\n",
       "<style scoped>\n",
       "    .dataframe tbody tr th:only-of-type {\n",
       "        vertical-align: middle;\n",
       "    }\n",
       "\n",
       "    .dataframe tbody tr th {\n",
       "        vertical-align: top;\n",
       "    }\n",
       "\n",
       "    .dataframe thead th {\n",
       "        text-align: right;\n",
       "    }\n",
       "</style>\n",
       "<table border=\"1\" class=\"dataframe\">\n",
       "  <thead>\n",
       "    <tr style=\"text-align: right;\">\n",
       "      <th></th>\n",
       "      <th>Unix_Time</th>\n",
       "      <th>Distance (cm)</th>\n",
       "      <th>Battery (V)</th>\n",
       "      <th>Charge (%)</th>\n",
       "      <th>datetime (ET)</th>\n",
       "    </tr>\n",
       "  </thead>\n",
       "  <tbody>\n",
       "    <tr>\n",
       "      <th>11697</th>\n",
       "      <td>1754485219</td>\n",
       "      <td>129.51250</td>\n",
       "      <td>4.05</td>\n",
       "      <td>85.20</td>\n",
       "      <td>2025-08-06 09:00:19-04:00</td>\n",
       "    </tr>\n",
       "    <tr>\n",
       "      <th>11698</th>\n",
       "      <td>1754488821</td>\n",
       "      <td>141.61667</td>\n",
       "      <td>4.05</td>\n",
       "      <td>85.20</td>\n",
       "      <td>2025-08-06 10:00:21-04:00</td>\n",
       "    </tr>\n",
       "    <tr>\n",
       "      <th>11699</th>\n",
       "      <td>1754492419</td>\n",
       "      <td>164.43056</td>\n",
       "      <td>4.04</td>\n",
       "      <td>85.05</td>\n",
       "      <td>2025-08-06 11:00:19-04:00</td>\n",
       "    </tr>\n",
       "    <tr>\n",
       "      <th>11700</th>\n",
       "      <td>1754496018</td>\n",
       "      <td>193.69722</td>\n",
       "      <td>4.06</td>\n",
       "      <td>85.05</td>\n",
       "      <td>2025-08-06 12:00:18-04:00</td>\n",
       "    </tr>\n",
       "    <tr>\n",
       "      <th>11701</th>\n",
       "      <td>1754499620</td>\n",
       "      <td>215.46527</td>\n",
       "      <td>4.08</td>\n",
       "      <td>85.05</td>\n",
       "      <td>2025-08-06 13:00:20-04:00</td>\n",
       "    </tr>\n",
       "  </tbody>\n",
       "</table>\n",
       "</div>"
      ],
      "text/plain": [
       "        Unix_Time  Distance (cm)  Battery (V)  Charge (%)  \\\n",
       "11697  1754485219      129.51250         4.05       85.20   \n",
       "11698  1754488821      141.61667         4.05       85.20   \n",
       "11699  1754492419      164.43056         4.04       85.05   \n",
       "11700  1754496018      193.69722         4.06       85.05   \n",
       "11701  1754499620      215.46527         4.08       85.05   \n",
       "\n",
       "                  datetime (ET)  \n",
       "11697 2025-08-06 09:00:19-04:00  \n",
       "11698 2025-08-06 10:00:21-04:00  \n",
       "11699 2025-08-06 11:00:19-04:00  \n",
       "11700 2025-08-06 12:00:18-04:00  \n",
       "11701 2025-08-06 13:00:20-04:00  "
      ]
     },
     "execution_count": 6,
     "metadata": {},
     "output_type": "execute_result"
    }
   ],
   "source": [
    "df_full.tail()"
   ]
  },
  {
   "cell_type": "code",
   "execution_count": 15,
   "id": "a82dabac-f8ff-4352-b5aa-a7645a5f8842",
   "metadata": {},
   "outputs": [
    {
     "data": {
      "text/plain": [
       "Timestamp('2025-08-06 13:00:20-0400', tz='America/New_York')"
      ]
     },
     "execution_count": 15,
     "metadata": {},
     "output_type": "execute_result"
    }
   ],
   "source": [
    "end_date = df_full['datetime (ET)'].max()\n",
    "end_date"
   ]
  },
  {
   "cell_type": "code",
   "execution_count": 19,
   "id": "37d271c7-5d72-4821-83df-76a242be86ca",
   "metadata": {},
   "outputs": [
    {
     "data": {
      "image/png": "[encoded data removed]",
      "text/plain": [
       "<Figure size 1200x600 with 1 Axes>"
      ]
     },
     "metadata": {},
     "output_type": "display_data"
    }
   ],
   "source": [
    "fig, axs = plt.subplots(figsize = (12, 6))\n",
    "axs.plot(df_full['datetime (ET)'], df_full['Distance (cm)'])\n",
    "\n",
    "axs.set_ylabel('Distance (cm)')\n",
    "axs.set_xlim([datetime.date(2024, 4, 5), end_date])\n",
    "\n",
    "fig.autofmt_xdate()"
   ]
  },
  {
   "cell_type": "code",
   "execution_count": null,
   "id": "8f87b741-1a5f-401a-b7f1-8e5cac061e1a",
   "metadata": {},
   "outputs": [],
   "source": []
  }
 ],
 "metadata": {
  "kernelspec": {
   "display_name": "Python 3 (ipykernel)",
   "language": "python",
   "name": "python3"
  },
  "language_info": {
   "codemirror_mode": {
    "name": "ipython",
    "version": 3
   },
   "file_extension": ".py",
   "mimetype": "text/x-python",
   "name": "python",
   "nbconvert_exporter": "python",
   "pygments_lexer": "ipython3",
   "version": "3.11.8"
  }
 },
 "nbformat": 4,
 "nbformat_minor": 5
}
